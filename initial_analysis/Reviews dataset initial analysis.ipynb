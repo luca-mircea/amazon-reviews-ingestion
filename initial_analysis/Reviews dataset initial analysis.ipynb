{
 "cells": [
  {
   "cell_type": "markdown",
   "id": "3fd6f9c2-960a-43f6-a408-658e11b19c36",
   "metadata": {},
   "source": [
    "# Reviews dataset initial analysis\n",
    "\n",
    "### Author\n",
    "Luca Mircea\n",
    "\n",
    "### Date started\n",
    "6 May 2024\n",
    "\n",
    "### Premise\n",
    "I have been asked to write an ETL framework for the Amazon reviews dataset as part of a technical challenge; I will therefore:\n",
    "- Read the data in order to get familiar with it\n",
    "- Identify data points & their quality issues\n",
    "- Create the data model\n",
    "- Implement ETLs"
   ]
  },
  {
   "cell_type": "code",
   "execution_count": 1,
   "id": "37728f96-9292-45e0-8a6d-b2dc3c512283",
   "metadata": {},
   "outputs": [],
   "source": [
    "# Import libs\n",
    "import pandas as pd\n"
   ]
  },
  {
   "cell_type": "code",
   "execution_count": 2,
   "id": "795fed7e-c62b-4d3e-9ccc-81b5668b3a0a",
   "metadata": {},
   "outputs": [
    {
     "data": {
      "text/html": [
       "<div>\n",
       "<style scoped>\n",
       "    .dataframe tbody tr th:only-of-type {\n",
       "        vertical-align: middle;\n",
       "    }\n",
       "\n",
       "    .dataframe tbody tr th {\n",
       "        vertical-align: top;\n",
       "    }\n",
       "\n",
       "    .dataframe thead th {\n",
       "        text-align: right;\n",
       "    }\n",
       "</style>\n",
       "<table border=\"1\" class=\"dataframe\">\n",
       "  <thead>\n",
       "    <tr style=\"text-align: right;\">\n",
       "      <th></th>\n",
       "      <th>Unnamed: 0</th>\n",
       "      <th>reviewerID</th>\n",
       "      <th>asin</th>\n",
       "      <th>reviewerName</th>\n",
       "      <th>helpful</th>\n",
       "      <th>reviewText</th>\n",
       "      <th>overall</th>\n",
       "      <th>summary</th>\n",
       "      <th>unixReviewTime</th>\n",
       "      <th>reviewTime</th>\n",
       "    </tr>\n",
       "  </thead>\n",
       "  <tbody>\n",
       "    <tr>\n",
       "      <th>0</th>\n",
       "      <td>0</td>\n",
       "      <td>A1KLRMWW2FWPL4</td>\n",
       "      <td>0000031887</td>\n",
       "      <td>Amazon Customer \"cameramom\"</td>\n",
       "      <td>[0, 0]</td>\n",
       "      <td>This is a great tutu and at a really great pri...</td>\n",
       "      <td>5.0</td>\n",
       "      <td>Great tutu-  not cheaply made</td>\n",
       "      <td>1297468800</td>\n",
       "      <td>02 12, 2011</td>\n",
       "    </tr>\n",
       "    <tr>\n",
       "      <th>1</th>\n",
       "      <td>1</td>\n",
       "      <td>A2G5TCU2WDFZ65</td>\n",
       "      <td>0000031887</td>\n",
       "      <td>Amazon Customer</td>\n",
       "      <td>[0, 0]</td>\n",
       "      <td>I bought this for my 4 yr old daughter for dan...</td>\n",
       "      <td>5.0</td>\n",
       "      <td>Very Cute!!</td>\n",
       "      <td>1358553600</td>\n",
       "      <td>01 19, 2013</td>\n",
       "    </tr>\n",
       "    <tr>\n",
       "      <th>2</th>\n",
       "      <td>2</td>\n",
       "      <td>A1RLQXYNCMWRWN</td>\n",
       "      <td>0000031887</td>\n",
       "      <td>Carola</td>\n",
       "      <td>[0, 0]</td>\n",
       "      <td>What can I say... my daughters have it in oran...</td>\n",
       "      <td>5.0</td>\n",
       "      <td>I have buy more than one</td>\n",
       "      <td>1357257600</td>\n",
       "      <td>01 4, 2013</td>\n",
       "    </tr>\n",
       "    <tr>\n",
       "      <th>3</th>\n",
       "      <td>3</td>\n",
       "      <td>A8U3FAMSJVHS5</td>\n",
       "      <td>0000031887</td>\n",
       "      <td>Caromcg</td>\n",
       "      <td>[0, 0]</td>\n",
       "      <td>We bought several tutus at once, and they are ...</td>\n",
       "      <td>5.0</td>\n",
       "      <td>Adorable, Sturdy</td>\n",
       "      <td>1398556800</td>\n",
       "      <td>04 27, 2014</td>\n",
       "    </tr>\n",
       "    <tr>\n",
       "      <th>4</th>\n",
       "      <td>4</td>\n",
       "      <td>A3GEOILWLK86XM</td>\n",
       "      <td>0000031887</td>\n",
       "      <td>CJ</td>\n",
       "      <td>[0, 0]</td>\n",
       "      <td>Thank you Halo Heaven great product for Little...</td>\n",
       "      <td>5.0</td>\n",
       "      <td>Grammy's Angels Love it</td>\n",
       "      <td>1394841600</td>\n",
       "      <td>03 15, 2014</td>\n",
       "    </tr>\n",
       "    <tr>\n",
       "      <th>5</th>\n",
       "      <td>5</td>\n",
       "      <td>A27UF1MSF3DB2</td>\n",
       "      <td>0000031887</td>\n",
       "      <td>C-Lo \"Cynthia\"</td>\n",
       "      <td>[0, 0]</td>\n",
       "      <td>I received this today and I'm not a fan of it ...</td>\n",
       "      <td>4.0</td>\n",
       "      <td>It's ok</td>\n",
       "      <td>1396224000</td>\n",
       "      <td>03 31, 2014</td>\n",
       "    </tr>\n",
       "    <tr>\n",
       "      <th>6</th>\n",
       "      <td>6</td>\n",
       "      <td>A16GFPNVF4Y816</td>\n",
       "      <td>0000031887</td>\n",
       "      <td>design maven</td>\n",
       "      <td>[0, 0]</td>\n",
       "      <td>Bought this as a backup to the regular ballet ...</td>\n",
       "      <td>5.0</td>\n",
       "      <td>Great for dress-up and for ballet practice</td>\n",
       "      <td>1399075200</td>\n",
       "      <td>05 3, 2014</td>\n",
       "    </tr>\n",
       "    <tr>\n",
       "      <th>7</th>\n",
       "      <td>7</td>\n",
       "      <td>A2M2APVYIB2U6K</td>\n",
       "      <td>0000031887</td>\n",
       "      <td>Jamie P.</td>\n",
       "      <td>[0, 0]</td>\n",
       "      <td>Great tutu for a great price. It isn't a &amp;#34;...</td>\n",
       "      <td>5.0</td>\n",
       "      <td>Great value</td>\n",
       "      <td>1356220800</td>\n",
       "      <td>12 23, 2012</td>\n",
       "    </tr>\n",
       "    <tr>\n",
       "      <th>8</th>\n",
       "      <td>8</td>\n",
       "      <td>A1NJ71X3YPQNQ9</td>\n",
       "      <td>0000031887</td>\n",
       "      <td>JBerger</td>\n",
       "      <td>[0, 0]</td>\n",
       "      <td>My daughter liked this, and it with her costum...</td>\n",
       "      <td>4.0</td>\n",
       "      <td>Good</td>\n",
       "      <td>1384041600</td>\n",
       "      <td>11 10, 2013</td>\n",
       "    </tr>\n",
       "    <tr>\n",
       "      <th>9</th>\n",
       "      <td>9</td>\n",
       "      <td>A3EERSWHAI6SO</td>\n",
       "      <td>0000031887</td>\n",
       "      <td>Jeffrey Hollingshead \"Jillian hollingshead\"</td>\n",
       "      <td>[7, 8]</td>\n",
       "      <td>For what I paid for two tutus is unbeatable an...</td>\n",
       "      <td>5.0</td>\n",
       "      <td>WOW !! ..is all I have to say!</td>\n",
       "      <td>1349568000</td>\n",
       "      <td>10 7, 2012</td>\n",
       "    </tr>\n",
       "  </tbody>\n",
       "</table>\n",
       "</div>"
      ],
      "text/plain": [
       "   Unnamed: 0      reviewerID        asin  \\\n",
       "0           0  A1KLRMWW2FWPL4  0000031887   \n",
       "1           1  A2G5TCU2WDFZ65  0000031887   \n",
       "2           2  A1RLQXYNCMWRWN  0000031887   \n",
       "3           3   A8U3FAMSJVHS5  0000031887   \n",
       "4           4  A3GEOILWLK86XM  0000031887   \n",
       "5           5   A27UF1MSF3DB2  0000031887   \n",
       "6           6  A16GFPNVF4Y816  0000031887   \n",
       "7           7  A2M2APVYIB2U6K  0000031887   \n",
       "8           8  A1NJ71X3YPQNQ9  0000031887   \n",
       "9           9   A3EERSWHAI6SO  0000031887   \n",
       "\n",
       "                                  reviewerName helpful  \\\n",
       "0                  Amazon Customer \"cameramom\"  [0, 0]   \n",
       "1                              Amazon Customer  [0, 0]   \n",
       "2                                       Carola  [0, 0]   \n",
       "3                                      Caromcg  [0, 0]   \n",
       "4                                           CJ  [0, 0]   \n",
       "5                               C-Lo \"Cynthia\"  [0, 0]   \n",
       "6                                 design maven  [0, 0]   \n",
       "7                                     Jamie P.  [0, 0]   \n",
       "8                                      JBerger  [0, 0]   \n",
       "9  Jeffrey Hollingshead \"Jillian hollingshead\"  [7, 8]   \n",
       "\n",
       "                                          reviewText  overall  \\\n",
       "0  This is a great tutu and at a really great pri...      5.0   \n",
       "1  I bought this for my 4 yr old daughter for dan...      5.0   \n",
       "2  What can I say... my daughters have it in oran...      5.0   \n",
       "3  We bought several tutus at once, and they are ...      5.0   \n",
       "4  Thank you Halo Heaven great product for Little...      5.0   \n",
       "5  I received this today and I'm not a fan of it ...      4.0   \n",
       "6  Bought this as a backup to the regular ballet ...      5.0   \n",
       "7  Great tutu for a great price. It isn't a &#34;...      5.0   \n",
       "8  My daughter liked this, and it with her costum...      4.0   \n",
       "9  For what I paid for two tutus is unbeatable an...      5.0   \n",
       "\n",
       "                                      summary  unixReviewTime   reviewTime  \n",
       "0               Great tutu-  not cheaply made      1297468800  02 12, 2011  \n",
       "1                                 Very Cute!!      1358553600  01 19, 2013  \n",
       "2                    I have buy more than one      1357257600   01 4, 2013  \n",
       "3                            Adorable, Sturdy      1398556800  04 27, 2014  \n",
       "4                     Grammy's Angels Love it      1394841600  03 15, 2014  \n",
       "5                                     It's ok      1396224000  03 31, 2014  \n",
       "6  Great for dress-up and for ballet practice      1399075200   05 3, 2014  \n",
       "7                                 Great value      1356220800  12 23, 2012  \n",
       "8                                        Good      1384041600  11 10, 2013  \n",
       "9              WOW !! ..is all I have to say!      1349568000   10 7, 2012  "
      ]
     },
     "execution_count": 2,
     "metadata": {},
     "output_type": "execute_result"
    }
   ],
   "source": [
    "reviews = pd.read_csv(r\"C:\\Users\\lucam\\Desktop\\coding\\amazon-reviews-ingestion\\data_short\\reviews_Clothing_Shoes_and_Jewelry_5.csv\")\n",
    "metadata = pd.read_csv(r\"C:\\Users\\lucam\\Desktop\\coding\\amazon-reviews-ingestion\\data_short\\metadata_category_clothing_shoes_and_jewelry_only.csv\")\n",
    "\n",
    "reviews.head(10)"
   ]
  },
  {
   "cell_type": "code",
   "execution_count": 3,
   "id": "ba6026ed-81c5-4088-9b3e-89ba97567a47",
   "metadata": {},
   "outputs": [
    {
     "data": {
      "text/html": [
       "<div>\n",
       "<style scoped>\n",
       "    .dataframe tbody tr th:only-of-type {\n",
       "        vertical-align: middle;\n",
       "    }\n",
       "\n",
       "    .dataframe tbody tr th {\n",
       "        vertical-align: top;\n",
       "    }\n",
       "\n",
       "    .dataframe thead th {\n",
       "        text-align: right;\n",
       "    }\n",
       "</style>\n",
       "<table border=\"1\" class=\"dataframe\">\n",
       "  <thead>\n",
       "    <tr style=\"text-align: right;\">\n",
       "      <th></th>\n",
       "      <th>metadataid</th>\n",
       "      <th>asin</th>\n",
       "      <th>salesrank</th>\n",
       "      <th>imurl</th>\n",
       "      <th>categories</th>\n",
       "      <th>title</th>\n",
       "      <th>description</th>\n",
       "      <th>price</th>\n",
       "      <th>related</th>\n",
       "      <th>brand</th>\n",
       "    </tr>\n",
       "  </thead>\n",
       "  <tbody>\n",
       "    <tr>\n",
       "      <th>0</th>\n",
       "      <td>2005401</td>\n",
       "      <td>B00004SR8Z</td>\n",
       "      <td>{'Clothing': 1631}</td>\n",
       "      <td>http://ecx.images-amazon.com/images/I/41RfWLMD...</td>\n",
       "      <td>[['Clothing, Shoes &amp; Jewelry', 'Luggage &amp; Trav...</td>\n",
       "      <td>Lewis N. Clark Deluxe Neck Stash</td>\n",
       "      <td>NaN</td>\n",
       "      <td>12.80</td>\n",
       "      <td>{'also_bought': ['B004RJWFDU', 'B00920ZC3O', '...</td>\n",
       "      <td>Lewis N. Clark</td>\n",
       "    </tr>\n",
       "    <tr>\n",
       "      <th>1</th>\n",
       "      <td>2217897</td>\n",
       "      <td>B0000ZE74A</td>\n",
       "      <td>{'Clothing': 4742}</td>\n",
       "      <td>http://ecx.images-amazon.com/images/I/41ryA-RO...</td>\n",
       "      <td>[['Clothing, Shoes &amp; Jewelry', 'Women', 'Cloth...</td>\n",
       "      <td>Vanity Fair Women's Lollipop Plus Size Cuff Le...</td>\n",
       "      <td>NaN</td>\n",
       "      <td>NaN</td>\n",
       "      <td>{'also_bought': ['B004PEHJ6U', 'B0000TF5VK', '...</td>\n",
       "      <td>NaN</td>\n",
       "    </tr>\n",
       "    <tr>\n",
       "      <th>2</th>\n",
       "      <td>2220611</td>\n",
       "      <td>B00012O12A</td>\n",
       "      <td>{'Clothing': 4}</td>\n",
       "      <td>http://ecx.images-amazon.com/images/I/41Dd7rCH...</td>\n",
       "      <td>[['Clothing, Shoes &amp; Jewelry', 'Men', 'Clothin...</td>\n",
       "      <td>Levi's Men's 505 Regular-Fit Jean</td>\n",
       "      <td>NaN</td>\n",
       "      <td>NaN</td>\n",
       "      <td>{'also_bought': ['B0018OR118', 'B003M2X1VI', '...</td>\n",
       "      <td>NaN</td>\n",
       "    </tr>\n",
       "    <tr>\n",
       "      <th>3</th>\n",
       "      <td>2324985</td>\n",
       "      <td>B0002XSXWC</td>\n",
       "      <td>{'Clothing': 300}</td>\n",
       "      <td>http://ecx.images-amazon.com/images/I/41-HS7D7...</td>\n",
       "      <td>[['Sports &amp; Outdoors', 'Clothing', 'Men', 'Shi...</td>\n",
       "      <td>Columbia Men's Bonehead Short Sleeve Fishing S...</td>\n",
       "      <td>NaN</td>\n",
       "      <td>NaN</td>\n",
       "      <td>{'also_bought': ['B0031RFWMU', 'B0050VLSLO', '...</td>\n",
       "      <td>NaN</td>\n",
       "    </tr>\n",
       "    <tr>\n",
       "      <th>4</th>\n",
       "      <td>2348742</td>\n",
       "      <td>B00066TWMU</td>\n",
       "      <td>{'Clothing': 1199}</td>\n",
       "      <td>http://ecx.images-amazon.com/images/I/51UNLUB4...</td>\n",
       "      <td>[['Clothing, Shoes &amp; Jewelry', 'ASICS'], ['Clo...</td>\n",
       "      <td>ASICS Mesh Backpack</td>\n",
       "      <td>NaN</td>\n",
       "      <td>12.41</td>\n",
       "      <td>{'also_bought': ['B009DB3RS4', 'B001PFA35G', '...</td>\n",
       "      <td>ASICS</td>\n",
       "    </tr>\n",
       "    <tr>\n",
       "      <th>5</th>\n",
       "      <td>2429152</td>\n",
       "      <td>B0007SZ9WY</td>\n",
       "      <td>{'Shoes': 21050}</td>\n",
       "      <td>http://ecx.images-amazon.com/images/I/41EhAUtP...</td>\n",
       "      <td>[['Clothing, Shoes &amp; Jewelry', 'Shoes &amp; Access...</td>\n",
       "      <td>Minnetonka Women's Sheepskin Slipper Boot</td>\n",
       "      <td>NaN</td>\n",
       "      <td>NaN</td>\n",
       "      <td>{'also_bought': ['B002QB1EGA', 'B0026MRR42', '...</td>\n",
       "      <td>NaN</td>\n",
       "    </tr>\n",
       "    <tr>\n",
       "      <th>6</th>\n",
       "      <td>2431225</td>\n",
       "      <td>B0007UDXF2</td>\n",
       "      <td>{'Shoes': 210}</td>\n",
       "      <td>http://ecx.images-amazon.com/images/I/41lhBJHi...</td>\n",
       "      <td>[['Clothing, Shoes &amp; Jewelry', 'R', 'Rainbow S...</td>\n",
       "      <td>Rainbow Sandals Women's Premier Leather Single...</td>\n",
       "      <td>NaN</td>\n",
       "      <td>NaN</td>\n",
       "      <td>{'also_bought': ['B0000ANAKR', 'B000M2EVAG', '...</td>\n",
       "      <td>NaN</td>\n",
       "    </tr>\n",
       "    <tr>\n",
       "      <th>7</th>\n",
       "      <td>2443394</td>\n",
       "      <td>B0008172YS</td>\n",
       "      <td>{'Clothing': 5304}</td>\n",
       "      <td>http://ecx.images-amazon.com/images/I/41iEPmIE...</td>\n",
       "      <td>[['Clothing, Shoes &amp; Jewelry', 'Men', 'Clothin...</td>\n",
       "      <td>Wonder Button, Collar Expanders, Collar Extender</td>\n",
       "      <td>NaN</td>\n",
       "      <td>5.79</td>\n",
       "      <td>{'also_bought': ['B005OCRZO8', 'B00FP462DK', '...</td>\n",
       "      <td>Competition</td>\n",
       "    </tr>\n",
       "    <tr>\n",
       "      <th>8</th>\n",
       "      <td>2459972</td>\n",
       "      <td>B0009DI4N8</td>\n",
       "      <td>{'Shoes': 6920}</td>\n",
       "      <td>http://ecx.images-amazon.com/images/I/410h4LKy...</td>\n",
       "      <td>[['Clothing, Shoes &amp; Jewelry', 'M', 'Minnetonk...</td>\n",
       "      <td>Minnetonka Women's Kiltie Suede Softsole Mocca...</td>\n",
       "      <td>NaN</td>\n",
       "      <td>NaN</td>\n",
       "      <td>{'also_bought': ['B0026MRNGO', 'B00BRCBBYY', '...</td>\n",
       "      <td>NaN</td>\n",
       "    </tr>\n",
       "    <tr>\n",
       "      <th>9</th>\n",
       "      <td>2504329</td>\n",
       "      <td>B000AC7OCK</td>\n",
       "      <td>NaN</td>\n",
       "      <td>http://ecx.images-amazon.com/images/I/41SZBR21...</td>\n",
       "      <td>[['Clothing, Shoes &amp; Jewelry', 'ACORN']]</td>\n",
       "      <td>Acorn New Spa Thong Slipper Accessory</td>\n",
       "      <td>NaN</td>\n",
       "      <td>NaN</td>\n",
       "      <td>{'also_bought': ['B005P4Q3XE', 'B003D3OC6E', '...</td>\n",
       "      <td>NaN</td>\n",
       "    </tr>\n",
       "  </tbody>\n",
       "</table>\n",
       "</div>"
      ],
      "text/plain": [
       "   metadataid        asin           salesrank  \\\n",
       "0     2005401  B00004SR8Z  {'Clothing': 1631}   \n",
       "1     2217897  B0000ZE74A  {'Clothing': 4742}   \n",
       "2     2220611  B00012O12A     {'Clothing': 4}   \n",
       "3     2324985  B0002XSXWC   {'Clothing': 300}   \n",
       "4     2348742  B00066TWMU  {'Clothing': 1199}   \n",
       "5     2429152  B0007SZ9WY    {'Shoes': 21050}   \n",
       "6     2431225  B0007UDXF2      {'Shoes': 210}   \n",
       "7     2443394  B0008172YS  {'Clothing': 5304}   \n",
       "8     2459972  B0009DI4N8     {'Shoes': 6920}   \n",
       "9     2504329  B000AC7OCK                 NaN   \n",
       "\n",
       "                                               imurl  \\\n",
       "0  http://ecx.images-amazon.com/images/I/41RfWLMD...   \n",
       "1  http://ecx.images-amazon.com/images/I/41ryA-RO...   \n",
       "2  http://ecx.images-amazon.com/images/I/41Dd7rCH...   \n",
       "3  http://ecx.images-amazon.com/images/I/41-HS7D7...   \n",
       "4  http://ecx.images-amazon.com/images/I/51UNLUB4...   \n",
       "5  http://ecx.images-amazon.com/images/I/41EhAUtP...   \n",
       "6  http://ecx.images-amazon.com/images/I/41lhBJHi...   \n",
       "7  http://ecx.images-amazon.com/images/I/41iEPmIE...   \n",
       "8  http://ecx.images-amazon.com/images/I/410h4LKy...   \n",
       "9  http://ecx.images-amazon.com/images/I/41SZBR21...   \n",
       "\n",
       "                                          categories  \\\n",
       "0  [['Clothing, Shoes & Jewelry', 'Luggage & Trav...   \n",
       "1  [['Clothing, Shoes & Jewelry', 'Women', 'Cloth...   \n",
       "2  [['Clothing, Shoes & Jewelry', 'Men', 'Clothin...   \n",
       "3  [['Sports & Outdoors', 'Clothing', 'Men', 'Shi...   \n",
       "4  [['Clothing, Shoes & Jewelry', 'ASICS'], ['Clo...   \n",
       "5  [['Clothing, Shoes & Jewelry', 'Shoes & Access...   \n",
       "6  [['Clothing, Shoes & Jewelry', 'R', 'Rainbow S...   \n",
       "7  [['Clothing, Shoes & Jewelry', 'Men', 'Clothin...   \n",
       "8  [['Clothing, Shoes & Jewelry', 'M', 'Minnetonk...   \n",
       "9           [['Clothing, Shoes & Jewelry', 'ACORN']]   \n",
       "\n",
       "                                               title description  price  \\\n",
       "0                   Lewis N. Clark Deluxe Neck Stash         NaN  12.80   \n",
       "1  Vanity Fair Women's Lollipop Plus Size Cuff Le...         NaN    NaN   \n",
       "2                  Levi's Men's 505 Regular-Fit Jean         NaN    NaN   \n",
       "3  Columbia Men's Bonehead Short Sleeve Fishing S...         NaN    NaN   \n",
       "4                                ASICS Mesh Backpack         NaN  12.41   \n",
       "5          Minnetonka Women's Sheepskin Slipper Boot         NaN    NaN   \n",
       "6  Rainbow Sandals Women's Premier Leather Single...         NaN    NaN   \n",
       "7   Wonder Button, Collar Expanders, Collar Extender         NaN   5.79   \n",
       "8  Minnetonka Women's Kiltie Suede Softsole Mocca...         NaN    NaN   \n",
       "9              Acorn New Spa Thong Slipper Accessory         NaN    NaN   \n",
       "\n",
       "                                             related           brand  \n",
       "0  {'also_bought': ['B004RJWFDU', 'B00920ZC3O', '...  Lewis N. Clark  \n",
       "1  {'also_bought': ['B004PEHJ6U', 'B0000TF5VK', '...             NaN  \n",
       "2  {'also_bought': ['B0018OR118', 'B003M2X1VI', '...             NaN  \n",
       "3  {'also_bought': ['B0031RFWMU', 'B0050VLSLO', '...             NaN  \n",
       "4  {'also_bought': ['B009DB3RS4', 'B001PFA35G', '...           ASICS  \n",
       "5  {'also_bought': ['B002QB1EGA', 'B0026MRR42', '...             NaN  \n",
       "6  {'also_bought': ['B0000ANAKR', 'B000M2EVAG', '...             NaN  \n",
       "7  {'also_bought': ['B005OCRZO8', 'B00FP462DK', '...     Competition  \n",
       "8  {'also_bought': ['B0026MRNGO', 'B00BRCBBYY', '...             NaN  \n",
       "9  {'also_bought': ['B005P4Q3XE', 'B003D3OC6E', '...             NaN  "
      ]
     },
     "execution_count": 3,
     "metadata": {},
     "output_type": "execute_result"
    }
   ],
   "source": [
    "metadata.head(10)"
   ]
  },
  {
   "cell_type": "code",
   "execution_count": 4,
   "id": "ae171be7-a76f-40ed-928a-ea386e8fbf90",
   "metadata": {},
   "outputs": [],
   "source": [
    "# we can read the data description here: https://amazon-reviews-2023.github.io/\n",
    "# we find that \"asin\" is the ID of the item, which is a link between the two data sets\n",
    "# we also have user (reviewer) id, info on categories, sales ranks, bought together, etc.\n",
    "\n",
    "# let's unpack some of the list/dict data to see what we find in it, then we can figure out\n",
    "# a data model\n",
    "\n",
    "# this data won't need a lot of wrangling and maneuvering, it's already quite clean. We mostly need to parse the date\n",
    "# in the reviews dataset, check for duplicates, and that's about it\n",
    "\n",
    "# our fact table is the reviews, and metadata seems to be basically the products dimensions table (have to check for duplicates)\n",
    "# we can still distill a few different dimension tables: brands, categories, users\n",
    "\n",
    "# I'll implement as the model a combination between Kimball and Vault 2.0: the various categories that any item belong to\n",
    "# may be super relevant information, but only for some cases, so if there are a lot of them I'll save them all in their own table;\n",
    "# same for related items"
   ]
  },
  {
   "cell_type": "code",
   "execution_count": 5,
   "id": "afeac740-9341-41d7-8e2c-b6696dc3da0f",
   "metadata": {},
   "outputs": [
    {
     "data": {
      "text/plain": [
       "\"[['Clothing, Shoes & Jewelry', 'Luggage & Travel Gear', 'Travel Accessories', 'Travel Wallets']]\""
      ]
     },
     "execution_count": 5,
     "metadata": {},
     "output_type": "execute_result"
    }
   ],
   "source": [
    "metadata.categories[0]"
   ]
  },
  {
   "cell_type": "code",
   "execution_count": 6,
   "id": "f3790b8a-c7f9-44bf-ac2b-c51621ee77e5",
   "metadata": {},
   "outputs": [
    {
     "data": {
      "text/plain": [
       "\"{'also_bought': ['B004RJWFDU', 'B00920ZC3O', 'B00920ZC3Y', 'B004RJWFN0', 'B0054IH8SA', 'B005IUBUKQ', 'B004SY5O5K', 'B0054IH614', 'B0054IHA4C', 'B003N7NN06', 'B000WO84Z2', 'B00A66VY9O', 'B003T0J5Y0', 'B004RJWFJO', 'B003GSKWOM', 'B0054IH3RQ', 'B0041E5RVI', 'B0054IHBLY', 'B00007KUX7', 'B005VCNRA2', 'B000OEP7TQ', 'B002Q4V174', 'B001CZT4I6', 'B00E0FZSQC', 'B00ESCWAYA', 'B0054IH27W', 'B001TUZSBQ', 'B000GCS004', 'B00A66VY8U', 'B000W9DJ1Q', 'B004SY9OVA', 'B004F3MQIM', 'B00CBTES9M', 'B003MU9JZM', 'B00CBTESA6', 'B00KCU4HDY', 'B001F5UZ4A', 'B000Y0CL8K', 'B007YKUWN4', 'B0000CNR1L', 'B007YL6HY6', 'B001CZP2EQ', 'B0054IH4RU', 'B00DTRHB2G', 'B00004SRAJ', 'B002LGY1CY', 'B004C0XZM4', 'B008HYWUE0', 'B000YN01X4', 'B00A8SXGKA', 'B0054M2J6W', 'B00CBSVUBM', 'B00CO1TBJY', 'B0054IGZAW', 'B00310GKBE', 'B00920ZCE8', 'B00332F1WY', 'B006L65C3M', 'B000BQW8AS', 'B0054IGXDQ', 'B004UB056E', 'B000W91XBO', 'B00IY9K72K', 'B0084OPT8C', 'B008Y8S38G', 'B00DDTO3LM', 'B00E7P7UHK', 'B00BH3FHWK', 'B003YID7SC', 'B00GON7IMU', 'B00GYRXHDA', 'B00920ZCDY', 'B0053E9VWQ', 'B00DCFYNMG', 'B00CMPGLCM', 'B0053HLLA8', 'B004WYD94E', 'B00DDNG29O', 'B001DX699Y', 'B000DZD3QA', 'B00K81NZOE', '1612386598', 'B00013BL18', 'B0091GB832', 'B00JEVHZEU', 'B004HCECVA', 'B004SCSV2U', 'B004C106A2', 'B000FK84C6', 'B001MTUJRM', 'B007YL84VA', 'B00C75KM2C', 'B00E0P2GLM', 'B001DYDAEK', 'B004MKMH96', 'B00DZKQSY4', 'B004C0TY7E'], 'also_viewed': ['B00920ZC3Y', 'B005IUBUKQ', 'B0054IH8SA', 'B004RJWFN0', 'B004RJWFDU', 'B003T0J5Y0', 'B0041E5RVI', 'B000OEP7TQ', 'B00KCU4HDY', 'B0054IHA4C', 'B00920ZC3O', 'B001CZKYQ2', 'B0058DPWK2', 'B00CBTES9M', 'B0054IGZAW', 'B0054IH3RQ', 'B004T2IXSQ', 'B0054IH614', 'B003VKA38K', 'B00CBTETPA', 'B0054IH7NG', 'B00006I596', 'B005PP0GUE', 'B00920ZCDO', 'B00CMPGLAO', 'B00I5IW1N8', 'B0054M2J6W', 'B0009U7R9I', 'B0094DZZ0Y', 'B001EPQ9GY', 'B00A66VX6I', 'B0054IH4RU', 'B000BQW8AS', 'B00IRHG92Q', 'B00BTZI6EC', 'B0040GR4O0', 'B001MTUJRM', 'B00JQEO2FA', 'B007XAI1EC', 'B00A66VY9O', 'B0052ECP7U', 'B003GEK09I', 'B00920ZCF2', 'B001F6M4IO', 'B00KKK27GU', 'B00CBTESXS', 'B00920ZCE8', 'B003J367DE', 'B003OXJL5K', 'B001CZT30A', 'B00007KUX7', 'B005PP4FCO', 'B00JI6TRR4', 'B0054IH27W', 'B00KM6HDXY', 'B0084K6G7O', 'B00906QVKI', 'B002EQ9NOW']}\""
      ]
     },
     "execution_count": 6,
     "metadata": {},
     "output_type": "execute_result"
    }
   ],
   "source": [
    "metadata.related[0]"
   ]
  },
  {
   "cell_type": "code",
   "execution_count": 7,
   "id": "50584a0a-f833-4c29-aa80-a8e967fa2d33",
   "metadata": {},
   "outputs": [],
   "source": [
    "# damn that's a lot, defo worth its own table"
   ]
  },
  {
   "cell_type": "code",
   "execution_count": 8,
   "id": "81bf5379-6972-4139-8dae-0ebb346a7221",
   "metadata": {},
   "outputs": [
    {
     "data": {
      "text/plain": [
       "(23033, 10)"
      ]
     },
     "execution_count": 8,
     "metadata": {},
     "output_type": "execute_result"
    }
   ],
   "source": [
    "metadata.shape"
   ]
  },
  {
   "cell_type": "code",
   "execution_count": 9,
   "id": "4c63661b-52b4-437c-bc76-24dd79872ade",
   "metadata": {},
   "outputs": [
    {
     "data": {
      "text/plain": [
       "(278677, 10)"
      ]
     },
     "execution_count": 9,
     "metadata": {},
     "output_type": "execute_result"
    }
   ],
   "source": [
    "reviews.shape"
   ]
  },
  {
   "cell_type": "code",
   "execution_count": 10,
   "id": "a44b083d-e6e2-478d-815a-4034575a47fc",
   "metadata": {},
   "outputs": [],
   "source": [
    "# the datasets are absolutely civilized in size lol"
   ]
  },
  {
   "cell_type": "code",
   "execution_count": 11,
   "id": "fa27582d-6f71-4d46-8e35-b0aa7119265f",
   "metadata": {},
   "outputs": [
    {
     "data": {
      "text/plain": [
       "23033"
      ]
     },
     "execution_count": 11,
     "metadata": {},
     "output_type": "execute_result"
    }
   ],
   "source": [
    "metadata.asin.nunique()"
   ]
  },
  {
   "cell_type": "code",
   "execution_count": 12,
   "id": "cbc6648a-41e1-4834-8857-8cb67efcfff5",
   "metadata": {},
   "outputs": [
    {
     "data": {
      "text/plain": [
       "0"
      ]
     },
     "execution_count": 12,
     "metadata": {},
     "output_type": "execute_result"
    }
   ],
   "source": [
    "# wow so nice! the metadata table is already the products dimensions table, neat!\n",
    "# let's check for nulls\n",
    "sum(pd.isnull(metadata['asin']))"
   ]
  },
  {
   "cell_type": "code",
   "execution_count": 13,
   "id": "ecd319b5-d1ca-4519-8bcb-823bcd7f56f0",
   "metadata": {},
   "outputs": [
    {
     "data": {
      "text/plain": [
       "23033"
      ]
     },
     "execution_count": 13,
     "metadata": {},
     "output_type": "execute_result"
    }
   ],
   "source": [
    "reviews.asin.nunique()"
   ]
  },
  {
   "cell_type": "code",
   "execution_count": 14,
   "id": "d902e02e-7fdb-4672-b9ce-73a66a51cfe3",
   "metadata": {},
   "outputs": [
    {
     "data": {
      "text/plain": [
       "array([[<Axes: title={'center': 'count_distinct_categories'}>]],\n",
       "      dtype=object)"
      ]
     },
     "execution_count": 14,
     "metadata": {},
     "output_type": "execute_result"
    },
    {
     "data": {
      "image/png": "[encoded data removed]",
      "text/plain": [
       "<Figure size 640x480 with 1 Axes>"
      ]
     },
     "metadata": {},
     "output_type": "display_data"
    }
   ],
   "source": [
    "# ok we have a full match, all the items show up in the reviews, neat\n",
    "# now let's see how many items we usually have in the categories and related columns\n",
    "\n",
    "# neat little tricks for turning list strings into lists hahaha:\n",
    "# https://stackoverflow.com/questions/1894269/how-to-convert-string-representation-of-list-to-a-list\n",
    "import ast\n",
    "import matplotlib.pyplot as plt\n",
    "\n",
    "metadata['count_distinct_categories'] = [\n",
    "    len(ast.literal_eval(list_of_categories_string))\n",
    "    for list_of_categories_string in metadata['categories']\n",
    "]\n",
    "\n",
    "metadata[['count_distinct_categories']].hist(bins=10)"
   ]
  },
  {
   "cell_type": "code",
   "execution_count": 15,
   "id": "825c73e1-fff2-40ac-8997-6dfcde6e2d2a",
   "metadata": {},
   "outputs": [
    {
     "data": {
      "text/plain": [
       "count_distinct_categories\n",
       "1     7396\n",
       "2     6485\n",
       "3     4431\n",
       "4     2632\n",
       "5     1057\n",
       "6      605\n",
       "7      239\n",
       "8      110\n",
       "9       58\n",
       "10      17\n",
       "11       2\n",
       "12       1\n",
       "Name: count, dtype: int64"
      ]
     },
     "execution_count": 15,
     "metadata": {},
     "output_type": "execute_result"
    }
   ],
   "source": [
    "# silly histogram won't let us see properly\n",
    "metadata['count_distinct_categories'].value_counts()"
   ]
  },
  {
   "cell_type": "code",
   "execution_count": 16,
   "id": "9cd89522-b300-44b8-ba41-f7a0a73ba802",
   "metadata": {},
   "outputs": [
    {
     "data": {
      "text/plain": [
       "array([[<Axes: title={'center': 'count_also_bought'}>,\n",
       "        <Axes: title={'center': 'count_also_viewed'}>],\n",
       "       [<Axes: title={'center': 'count_all_related'}>, <Axes: >]],\n",
       "      dtype=object)"
      ]
     },
     "execution_count": 16,
     "metadata": {},
     "output_type": "execute_result"
    },
    {
     "data": {
      "image/png": "[encoded data removed]",
      "text/plain": [
       "<Figure size 640x480 with 4 Axes>"
      ]
     },
     "metadata": {},
     "output_type": "display_data"
    }
   ],
   "source": [
    "# so in the secondary dimensions table called extra_categories we can save 5 (because 4 digits each) big categories & the rest\n",
    "# as just a string; let's do the same for the related items, that one's gonna be much more dramatic\n",
    "\n",
    "metadata['count_also_bought'] = [\n",
    "    len(ast.literal_eval(str(list_of_related_items))['also_bought'])  # this ast.literal_eval thingie is fireee\n",
    "    if str(list_of_related_items) != 'nan' and 'also_bought' in (ast.literal_eval(str(list_of_related_items))).keys()\n",
    "    else 0\n",
    "    for list_of_related_items in metadata['related']\n",
    "]\n",
    "\n",
    "# it errors out at element 33\n",
    "# metadata.loc[33, 'related']\n",
    "\n",
    "metadata['count_also_viewed'] = [\n",
    "    len(ast.literal_eval(str(list_of_related_items))['also_viewed'])\n",
    "    if str(list_of_related_items) != 'nan' and 'also_viewed' in (ast.literal_eval(str(list_of_related_items))).keys()\n",
    "    else 0\n",
    "    for list_of_related_items in metadata['related']\n",
    "]\n",
    "\n",
    "metadata['count_all_related'] = metadata['count_also_bought'] + metadata['count_also_viewed']\n",
    "\n",
    "metadata[['count_also_bought', 'count_also_viewed', 'count_all_related']].hist(bins=150)  # this one needs _a bunch_ of bins"
   ]
  },
  {
   "cell_type": "code",
   "execution_count": 17,
   "id": "cbfebe67-6f01-45e3-a7c8-3f2781bc652a",
   "metadata": {},
   "outputs": [
    {
     "data": {
      "text/plain": [
       "array([[<Axes: title={'center': 'count_salesrank'}>]], dtype=object)"
      ]
     },
     "execution_count": 17,
     "metadata": {},
     "output_type": "execute_result"
    },
    {
     "data": {
      "image/png": "[encoded data removed]",
      "text/plain": [
       "<Figure size 640x480 with 1 Axes>"
      ]
     },
     "metadata": {},
     "output_type": "display_data"
    }
   ],
   "source": [
    "# it's super interesting to see the items with either very few (< 50) related items, and those with 150+\n",
    "# this data is probably so revealing about customer behaviour and whatnot\n",
    "# you could e.g. do PCA and/or clustering to see why an object ends up in the low or the high\n",
    "# it would also be cool to know what the items with many related items have in common\n",
    "\n",
    "# let me also check the sales rank\n",
    "\n",
    "metadata['count_salesrank'] = [\n",
    "    len((ast.literal_eval(str(list_of_related_items))).keys())\n",
    "    if str(list_of_related_items) != 'nan'\n",
    "    else 0\n",
    "    for list_of_related_items in metadata['salesrank']\n",
    "]\n",
    "\n",
    "metadata[['count_salesrank']].hist(bins=10)"
   ]
  },
  {
   "cell_type": "code",
   "execution_count": 18,
   "id": "b7361294-70db-4843-9c59-a4ef91925e9f",
   "metadata": {},
   "outputs": [],
   "source": [
    "# either unranked or one single rank\n",
    "\n",
    "# the data looks pretty straightforward. I'll still mess around with\n",
    "# how to compile the helpfulness of reviews and maybe how to fix the date (or just parse it from the UNIX lol)\n",
    "# but we can safely start with the model diagram"
   ]
  }
 ],
 "metadata": {
  "kernelspec": {
   "display_name": "Python 3 (ipykernel)",
   "language": "python",
   "name": "python3"
  },
  "language_info": {
   "codemirror_mode": {
    "name": "ipython",
    "version": 3
   },
   "file_extension": ".py",
   "mimetype": "text/x-python",
   "name": "python",
   "nbconvert_exporter": "python",
   "pygments_lexer": "ipython3",
   "version": "3.12.0"
  }
 },
 "nbformat": 4,
 "nbformat_minor": 5
}
